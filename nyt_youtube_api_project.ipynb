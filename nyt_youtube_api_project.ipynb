{
 "cells": [
  {
   "cell_type": "markdown",
   "id": "8acedb5c",
   "metadata": {},
   "source": [
    "# nyt_youtube_api_project  - Python"
   ]
  },
  {
   "cell_type": "markdown",
   "id": "5dd8cd10",
   "metadata": {},
   "source": [
    "## By: Gabriela Sanchez"
   ]
  },
  {
   "cell_type": "code",
   "execution_count": 1,
   "id": "104ac4bb",
   "metadata": {},
   "outputs": [],
   "source": [
    "# Importing essential libraries\n",
    "from googleapiclient.discovery import build\n",
    "import pandas as pd\n",
    "from IPython.display import JSON\n",
    "from datetime import datetime\n",
    "import isodate\n",
    "\n",
    "#Data viz packages\n",
    "import seaborn as sns\n",
    "import matplotlib.pyplot as plt\n",
    "import matplotlib.ticker as ticker\n",
    "\n",
    "#NLP\n",
    "from wordcloud import WordCloud\n",
    "from nltk.corpus import stopwords"
   ]
  },
  {
   "cell_type": "code",
   "execution_count": 3,
   "id": "40ac77ad",
   "metadata": {},
   "outputs": [],
   "source": [
    "# Get credentials and create an API client\n",
    "\n",
    "api_key = ''\n",
    "\n",
    "channel_ids = ['UCqnbDFdCpuN8CMEg0VuEBqA']\n",
    "\n",
    "api_service_name = \"youtube\"\n",
    "api_version = \"v3\"\n",
    "\n",
    "youtube = build(\n",
    "    api_service_name, api_version, developerKey=api_key)"
   ]
  },
  {
   "cell_type": "code",
   "execution_count": null,
   "id": "84577e5e",
   "metadata": {},
   "outputs": [],
   "source": [
    "#Function to get channel dataframe stats\n",
    "\n",
    "def get_channel_stats(youtube, channel_ids):\n",
    "    all_data = []  \n",
    "\n",
    "\n",
    "    request = youtube.channels().list(\n",
    "        part=\"snippet,contentDetails,statistics\",\n",
    "        id=','.join(channel_ids)\n",
    "    )\n",
    "    response = request.execute()\n",
    "\n",
    "\n",
    "    for item in response['items']:\n",
    "        data = {\n",
    "            'Channel_Name': item['snippet']['title'],\n",
    "            'Subscribers': item['statistics']['subscriberCount'],\n",
    "            'Views': item['statistics']['viewCount'],\n",
    "            'Total_Videos': item['statistics']['videoCount'],\n",
    "            'Playlist_Id': item['contentDetails']['relatedPlaylists']['uploads']\n",
    "        }\n",
    "        all_data.append(data)  \n",
    "        \n",
    "    return pd.DataFrame(all_data)  "
   ]
  },
  {
   "cell_type": "code",
   "execution_count": null,
   "id": "8cf8901e",
   "metadata": {},
   "outputs": [],
   "source": [
    "channel_stats = get_channel_stats(youtube, channel_ids)"
   ]
  },
  {
   "cell_type": "code",
   "execution_count": null,
   "id": "a8d900cf",
   "metadata": {},
   "outputs": [],
   "source": [
    "#channel_stats retrieve a dataframe of the channel id requested\n",
    "\n",
    "channel_stats"
   ]
  },
  {
   "cell_type": "code",
   "execution_count": null,
   "id": "e1c6de83",
   "metadata": {},
   "outputs": [],
   "source": [
    "#get_video_ids retrieves all video IDs from a specified YouTube playlist\n",
    "\n",
    "\n",
    "playlist_id = 'UUqnbDFdCpuN8CMEg0VuEBqA'\n",
    "\n",
    "\n",
    "def get_video_ids(youtube, playlist_id):\n",
    "    video_ids = []\n",
    "\n",
    "    # Initial request\n",
    "    request = youtube.playlistItems().list(\n",
    "        part=\"snippet,contentDetails\",\n",
    "        playlistId=playlist_id,\n",
    "        maxResults=50\n",
    "    )\n",
    "    response = request.execute()\n",
    "\n",
    "    # Collect video IDs from the first page\n",
    "    for item in response['items']:\n",
    "        video_ids.append(item['contentDetails']['videoId'])\n",
    "\n",
    "    # Loop through additional pages\n",
    "    next_page_token = response.get('nextPageToken')\n",
    "    while next_page_token is not None:\n",
    "        request = youtube.playlistItems().list(\n",
    "            part=\"contentDetails\",\n",
    "            playlistId=playlist_id,\n",
    "            maxResults=50,\n",
    "            pageToken=next_page_token\n",
    "        )\n",
    "        response = request.execute()\n",
    "\n",
    "        for item in response['items']:\n",
    "            video_ids.append(item['contentDetails']['videoId'])\n",
    "\n",
    "        # Update next_page_token for the next iteration\n",
    "        next_page_token = response.get('nextPageToken')\n",
    "        \n",
    "    return video_ids"
   ]
  },
  {
   "cell_type": "code",
   "execution_count": null,
   "id": "59a2ce43",
   "metadata": {},
   "outputs": [],
   "source": [
    "video_ids = get_video_ids(youtube, playlist_id)"
   ]
  },
  {
   "cell_type": "code",
   "execution_count": null,
   "id": "d489b7b9",
   "metadata": {},
   "outputs": [],
   "source": [
    "# Retrieving Youtube Statistic for each video id\n",
    "\n",
    "\n",
    "def get_video_details(youtube, video_ids):\n",
    "    all_video_info = []\n",
    "\n",
    "    for i in range(0, len(video_ids), 50):\n",
    "        request = youtube.videos().list(\n",
    "            part=\"snippet,contentDetails,statistics\",\n",
    "            id=','.join(video_ids[i:i+50])\n",
    "        )\n",
    "        response = request.execute()\n",
    "\n",
    "        for video in response['items']:\n",
    "            stats_to_keep = {\n",
    "                'snippet': ['channelTitle', 'title', 'description', 'tags', 'publishedAt'],\n",
    "                'statistics': ['viewCount', 'likeCount', 'favoriteCount', 'commentCount'],\n",
    "                'contentDetails': ['duration', 'definition', 'caption']\n",
    "            }\n",
    "            video_info = {'video_id': video['id']}\n",
    "\n",
    "            for k in stats_to_keep.keys():\n",
    "                for v in stats_to_keep[k]:\n",
    "                    try:\n",
    "                        video_info[v] = video[k][v]\n",
    "                    except KeyError:\n",
    "                        video_info[v] = None\n",
    "\n",
    "            all_video_info.append(video_info)\n",
    "\n",
    "    return pd.DataFrame(all_video_info)\n"
   ]
  },
  {
   "cell_type": "code",
   "execution_count": null,
   "id": "8b4677c5",
   "metadata": {},
   "outputs": [],
   "source": [
    "video_df = get_video_details(youtube, video_ids) \n",
    "video_df"
   ]
  },
  {
   "cell_type": "markdown",
   "id": "354ec5d5",
   "metadata": {},
   "source": [
    "## Data Pre-processing"
   ]
  },
  {
   "cell_type": "code",
   "execution_count": null,
   "id": "e1ffa8c6",
   "metadata": {},
   "outputs": [],
   "source": [
    "#Exploring data for any null values\n",
    "video_df.isnull().any()"
   ]
  },
  {
   "cell_type": "code",
   "execution_count": null,
   "id": "8ee94a42",
   "metadata": {},
   "outputs": [],
   "source": [
    "video_df.dtypes"
   ]
  },
  {
   "cell_type": "code",
   "execution_count": null,
   "id": "bfe0fc88",
   "metadata": {},
   "outputs": [],
   "source": [
    "#transforming columns\n",
    "numeric_cols = ['viewCount','likeCount','favoriteCount','commentCount']\n",
    "video_df[numeric_cols] = video_df[numeric_cols].apply(pd.to_numeric, errors = 'coerce', axis = 1)\n",
    "video_df['publishedAt'] = pd.to_datetime(video_df['publishedAt'], format=\"%Y-%m-%dT%H:%M:%SZ\")\n",
    "video_df = video_df[video_df['publishedAt'].dt.year == 2024]"
   ]
  },
  {
   "cell_type": "code",
   "execution_count": null,
   "id": "79d29449",
   "metadata": {},
   "outputs": [],
   "source": [
    "#Converting duration to seconds\n",
    "\n",
    "video_df['durationSecs'] = video_df['duration'].apply(lambda x: isodate.parse_duration(x))\n",
    "video_df['durationSecs'] = video_df['durationSecs'].astype('timedelta64[s]')"
   ]
  },
  {
   "cell_type": "code",
   "execution_count": null,
   "id": "743d4bb4",
   "metadata": {},
   "outputs": [],
   "source": [
    "# Verify columns\n",
    "video_df[['durationSecs','duration']]"
   ]
  },
  {
   "cell_type": "code",
   "execution_count": null,
   "id": "1ab007ae",
   "metadata": {},
   "outputs": [],
   "source": [
    "# Add tag count\n",
    "video_df['tagCount'] = video_df['tags'].apply(lambda x: 0 if x is None else len(x))\n",
    "video_df"
   ]
  },
  {
   "cell_type": "markdown",
   "id": "59e5bd29",
   "metadata": {},
   "source": [
    "## EDA"
   ]
  },
  {
   "cell_type": "markdown",
   "id": "6e416cfa",
   "metadata": {},
   "source": [
    "### Best performing videos"
   ]
  },
  {
   "cell_type": "code",
   "execution_count": null,
   "id": "f4e74f89",
   "metadata": {},
   "outputs": [],
   "source": [
    "#Creating barplot for the best performing videos\n",
    "ax = sns.barplot(x='title', y='viewCount', data=video_df.sort_values('viewCount', ascending=False).iloc[:9])\n",
    "ax.set_xticklabels(ax.get_xticklabels(), rotation=90)\n",
    "ax.yaxis.set_major_formatter(ticker.FuncFormatter(lambda x, pos: '{:,.1f}M'.format(x / 1e6)))\n",
    "\n",
    "ax.set_title(\"Top 9 Most Viewed New York Times YouTube Videos in 2024\", fontsize=16)"
   ]
  },
  {
   "cell_type": "markdown",
   "id": "7fbbd745",
   "metadata": {},
   "source": [
    "### Worst performing videos"
   ]
  },
  {
   "cell_type": "code",
   "execution_count": null,
   "id": "f723b78e",
   "metadata": {},
   "outputs": [],
   "source": [
    "#Creating barplot for the worst performing videos\n",
    "ax = sns.barplot(x='title', y='viewCount', data=video_df.sort_values('viewCount', ascending=True).iloc[:9])\n",
    "ax.set_xticklabels(ax.get_xticklabels(), rotation=90)\n",
    "ax.yaxis.set_major_formatter(ticker.FuncFormatter(lambda x, pos: '{:,.0f}K'.format(x / 1000)))\n",
    "\n",
    "ax.set_title(\"9 Least Viewed New York Times YouTube Videos in 2024\", fontsize=16)"
   ]
  },
  {
   "cell_type": "markdown",
   "id": "b5b76560",
   "metadata": {},
   "source": [
    "## Views vs. likes and comments"
   ]
  },
  {
   "cell_type": "code",
   "execution_count": null,
   "id": "16ed87d1",
   "metadata": {},
   "outputs": [],
   "source": [
    "fig, ax = plt.subplots(1, 2, figsize=(12, 6))\n",
    "\n",
    "# Plotting Views vs. Comments\n",
    "sns.scatterplot(data=video_df, x='commentCount', y='viewCount', ax=ax[0])\n",
    "ax[0].set_title(\"Views vs. Comments\")\n",
    "ax[0].yaxis.set_major_formatter(ticker.FuncFormatter(lambda x, _: '{:.1f}M'.format(x / 1e6)))\n",
    "ax[0].set_xlabel(\"Comment Count\")\n",
    "ax[0].set_ylabel(\"View Count (Millions)\")\n",
    "\n",
    "# Plotting Views vs. Likes\n",
    "sns.scatterplot(data=video_df, x='likeCount', y='viewCount', ax=ax[1])\n",
    "ax[1].set_title(\"Views vs. Likes\")\n",
    "ax[1].yaxis.set_major_formatter(ticker.FuncFormatter(lambda x, _: '{:.1f}M'.format(x / 1e6)))\n",
    "ax[1].set_xlabel(\"Like Count\")\n",
    "ax[1].set_ylabel(\"\")\n",
    "\n",
    "# Adjust layout\n",
    "plt.tight_layout()\n",
    "plt.show()"
   ]
  },
  {
   "cell_type": "markdown",
   "id": "ce40c1cb",
   "metadata": {},
   "source": [
    "## Video Duration"
   ]
  },
  {
   "cell_type": "code",
   "execution_count": null,
   "id": "bffaf319",
   "metadata": {},
   "outputs": [],
   "source": [
    "#Creating histogram\n",
    "\n",
    "sns.histplot(data = video_df, x = 'durationSecs', bins=30)"
   ]
  },
  {
   "cell_type": "markdown",
   "id": "1a38943b",
   "metadata": {},
   "source": [
    "## Word Cloud"
   ]
  },
  {
   "cell_type": "code",
   "execution_count": null,
   "id": "cba9e955",
   "metadata": {},
   "outputs": [],
   "source": [
    "import nltk\n",
    "import re \n",
    "\n",
    "# Download the stopwords resource\n",
    "nltk.download('stopwords')\n",
    "\n",
    "# Now you can import stopwords from nltk.corpus\n",
    "from nltk.corpus import stopwords\n",
    "\n",
    "\n",
    "\n",
    "import matplotlib.pyplot as plt\n",
    "from wordcloud import WordCloud\n",
    "from nltk.corpus import stopwords\n",
    "\n",
    "# Create a set of English stopwords\n",
    "stop_words = set(stopwords.words('english'))\n",
    "\n",
    "# Remove stopwords from titles\n",
    "def clean_title(title):\n",
    "    cleaned_title = re.sub(r'U\\.S\\.', '', re.sub(r'\\s*[\\|–-].*$', '', title))\n",
    "    return cleaned_title\n",
    "\n",
    "video_df['cleaned_title'] = video_df['title'].apply(clean_title)\n",
    "\n",
    "\n",
    "video_df['title_no_stopwords'] = video_df['cleaned_title'].apply(lambda x: [item for item in str(x).split() if item.lower() not in stop_words])\n",
    "\n",
    "# Create a list of all words\n",
    "all_words = [a for b in video_df['title_no_stopwords'].tolist() for a in b]\n",
    "all_words_str = ' '.join(all_words)  # Use space instead of empty string\n",
    "\n",
    "def plot_cloud(wordcloud):\n",
    "    plt.figure(figsize=(30, 20))\n",
    "    plt.imshow(wordcloud, interpolation='bilinear')  # Added interpolation for smoother display\n",
    "    plt.axis(\"off\")\n",
    "    plt.show()  # Added show to display the plot\n",
    "\n",
    "# Generate the word cloud\n",
    "wordcloud = WordCloud(width=2000, height=1000, random_state=1, background_color='white',\n",
    "                     colormap='gist_earth', collocations=False).generate(all_words_str)\n",
    "\n",
    "# Plot the word cloud\n",
    "plot_cloud(wordcloud)\n"
   ]
  },
  {
   "cell_type": "code",
   "execution_count": null,
   "id": "ad0086c3",
   "metadata": {
    "scrolled": true
   },
   "outputs": [],
   "source": [
    "import nltk\n",
    "from nltk.corpus import stopwords\n",
    "import matplotlib.pyplot as plt\n",
    "from wordcloud import WordCloud\n",
    "import re\n",
    "\n",
    "\n",
    "nltk.download('stopwords')\n",
    "\n",
    "# Eliminating stopwords from NYT sections\n",
    "custom_stopwords = {'nyt', 'opinion', 'scene','anatomy','watch','op','docs'}\n",
    "stop_words = set(stopwords.words('english')).union(custom_stopwords)\n",
    "\n",
    "\n",
    "def clean_title(title):\n",
    "    cleaned_title = re.sub(r'U\\.S\\.', '', re.sub(r'\\s*[\\|–-].*$', '', title))\n",
    "    return cleaned_title\n",
    "\n",
    "video_df['cleaned_title'] = video_df['title'].apply(clean_title)\n",
    "\n",
    "\n",
    "#New list of stopwords to get trending topics\n",
    "video_df['title_no_stopwords'] = video_df['cleaned_title'].apply(lambda x: [item for item in str(x).split() if item.lower() not in stop_words])\n",
    "\n",
    "\n",
    "all_words = [a for b in video_df['title_no_stopwords'].tolist() for a in b]\n",
    "all_words_str = ' '.join(all_words) \n",
    "\n",
    "def plot_cloud(wordcloud):\n",
    "    plt.figure(figsize=(30, 20))\n",
    "    plt.imshow(wordcloud, interpolation='bilinear')  \n",
    "    plt.axis(\"off\")\n",
    "    plt.show() \n",
    "\n",
    "# Generate the word cloud\n",
    "wordcloud = WordCloud(width=2000, height=1000, random_state=1, background_color='white',\n",
    "                     colormap='gist_earth', collocations=False).generate(all_words_str)\n",
    "\n",
    "# Plot the word cloud\n",
    "plot_cloud(wordcloud)"
   ]
  },
  {
   "cell_type": "markdown",
   "id": "90b000d5",
   "metadata": {},
   "source": [
    "## Upload Schedule"
   ]
  },
  {
   "cell_type": "code",
   "execution_count": null,
   "id": "02fb06fe",
   "metadata": {},
   "outputs": [],
   "source": [
    "#Creating upload schedule chart\n",
    "\n",
    "video_df['publishedAt'] = pd.to_datetime(video_df['publishedAt'])\n",
    "day_counts = video_df['publishedAt'].dt.day_name().value_counts()\n",
    "weekdays = ['Monday','Tuesday','Wednesday','Thursday','Friday','Saturday','Sunday']\n",
    "day_df = day_counts.reindex(weekdays, fill_value=0)\n",
    "ax = day_df.reset_index().plot.bar(x='index', y='publishedAt', legend=False, rot=0)\n",
    "ax.set_xlabel(\"Day of the Week\")\n",
    "ax.set_ylabel(\"Number of Videos Published\")\n",
    "ax.set_title(\"Videos Published by Day of the Week\")\n",
    "plt.show()"
   ]
  }
 ],
 "metadata": {
  "kernelspec": {
   "display_name": "Python 3 (ipykernel)",
   "language": "python",
   "name": "python3"
  },
  "language_info": {
   "codemirror_mode": {
    "name": "ipython",
    "version": 3
   },
   "file_extension": ".py",
   "mimetype": "text/x-python",
   "name": "python",
   "nbconvert_exporter": "python",
   "pygments_lexer": "ipython3",
   "version": "3.11.3"
  }
 },
 "nbformat": 4,
 "nbformat_minor": 5
}
